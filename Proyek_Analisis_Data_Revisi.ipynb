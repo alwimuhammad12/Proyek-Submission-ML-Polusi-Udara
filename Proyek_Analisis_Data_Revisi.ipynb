{
  "cells": [
    {
      "cell_type": "markdown",
      "metadata": {
        "id": "H9wADwK78DCz"
      },
      "source": [
        "# Proyek Analisis Data: [Input Nama Dataset]\n",
        "- **Nama:** Muhammad Abdul Rosmi Alwi\n",
        "- **Email:** alwimuhammad194@gmail.com\n",
        "- **ID Dicoding:** alwi_1234"
      ]
    },
    {
      "cell_type": "markdown",
      "metadata": {
        "id": "eE0raob58DC0"
      },
      "source": [
        "## Menentukan Pertanyaan Bisnis"
      ]
    },
    {
      "cell_type": "markdown",
      "metadata": {
        "id": "GmQeQ5YF8DC0"
      },
      "source": [
        "- Bagaimana tren polusi udara (PM 2.5 dan PM 10) selama periode 2013-2017 di berbagai stasiun, dan apakah terdapat perbedaan yang signifikan?\n",
        "- Bagaimana faktor cuaca (seperti kelembaban, suhu, curah hujan, tekanan udara, kecepatan angin)  mempengaruhi tingkap polusi udara (PM 2.5 dan PM 10) di masing-masing lokasi?"
      ]
    },
    {
      "cell_type": "markdown",
      "metadata": {
        "id": "oDy0-E-GNSyb"
      },
      "source": [
        "## Penjelasan\n",
        "**Pertanyaan 1:**\n",
        "1. Keterkaitan terhadap isu global dan lokal:\n",
        "\n",
        "  * PM 2.5 dan PM 10 merupakan indikator yang digunakan untuk menunjukkan kualitas udara di suatu tempat atau wilayah. Kota-kota besar terutama Tiongkok (seperti Beijing), memiliki problem serius terhadap polusi udara.\n",
        "  * Tren historis 2013-2017 menunjukkan adanya perubahan kualitas udara yang salah satunya dipengaruhi oleh kebijakan pemerintah (seperti program pengendali polusi udara).\n",
        "\n",
        "2. Spesific dan Measurable:\n",
        "  * Fokus pada dua indikator utama polutan udara (PM 2.5 dan PM 10).\n",
        "  * Bisa diukur secara statistik: perbedaan antar stasiun, standar deviasi, tren waktu, dan lainnya.\n",
        "\n",
        "3. Action-Oriented dan Relevan:\n",
        "  * Hasil analisis dapat digunakan dalam menyusun kebijakan lingkungan. Jika terdapat stasiun dengan rasio kandungan polutan jauh lebih tinggi, maka diperlukan adanya tindakan khusus.\n",
        "\n",
        "4. Time-Bound:\n",
        "  * Data spesifik yang terkumpul selama periode 2013-2017, dapat digunakan sebagai sumber analisis longitudinal.\n",
        "\n",
        "**Pertanyaan 2:**\n",
        "1. Causal Insight:\n",
        "  * Setelah mengetahui tren polusi selama lima tahun, pertanyaan selanjutnya adalah: apa yang menyebabkan terjadinya fluktuasi tersebut?\n",
        "  * Secara ilmiah, cuaca merupakan faktor alami yang dapat mempengaruhi polusi udara seperti kecepatan angin, intensitas curah hujan, pola cuaca musiman, dan lainnya.\n",
        "\n",
        "2. Spesific dan Measurable:\n",
        "  * Fokus pada variabel cuaca yang terdapat pada dataset: suhu (TEMP), tekanan (PRES), curah hujan (RAIN), kelembaban (DEWP), dan kecepatan angin (WSPM).\n",
        "  * Korelasi dan analisis statistik bisa dilakukan.\n",
        "\n",
        "3. Action-Oriented dan Relevan:\n",
        "  * Jika terdapat data yang menunjukkan bahwa polusi tinggi dipengaruhi oleh angin lemah dan suhu rendah, maka bisa dibuat peringatan dini.\n",
        "\n",
        "4. Time-Bound dan Kontekstual:\n",
        "  * Kondisi cuaca yang berubah-ubah sepanjang waktu dan data yang mencakup periode tersebut, memungkinkan adanya analisis kondisi cuaca secara spesifik pada musim atau tahun tertentu.  "
      ]
    },
    {
      "cell_type": "markdown",
      "metadata": {
        "id": "H-z4QGlO8DC1"
      },
      "source": [
        "## Import Semua Packages/Library yang Digunakan"
      ]
    },
    {
      "cell_type": "code",
      "execution_count": 1,
      "metadata": {
        "id": "FVYwaObI8DC1"
      },
      "outputs": [
        {
          "ename": "ModuleNotFoundError",
          "evalue": "No module named 'plotly'",
          "output_type": "error",
          "traceback": [
            "\u001b[1;31m---------------------------------------------------------------------------\u001b[0m",
            "\u001b[1;31mModuleNotFoundError\u001b[0m                       Traceback (most recent call last)",
            "Cell \u001b[1;32mIn[1], line 8\u001b[0m\n\u001b[0;32m      6\u001b[0m \u001b[38;5;28;01mimport\u001b[39;00m \u001b[38;5;21;01mmatplotlib\u001b[39;00m\u001b[38;5;21;01m.\u001b[39;00m\u001b[38;5;21;01mpyplot\u001b[39;00m \u001b[38;5;28;01mas\u001b[39;00m \u001b[38;5;21;01mplt\u001b[39;00m\n\u001b[0;32m      7\u001b[0m \u001b[38;5;28;01mimport\u001b[39;00m \u001b[38;5;21;01mseaborn\u001b[39;00m \u001b[38;5;28;01mas\u001b[39;00m \u001b[38;5;21;01msns\u001b[39;00m\n\u001b[1;32m----> 8\u001b[0m \u001b[38;5;28;01mimport\u001b[39;00m \u001b[38;5;21;01mplotly\u001b[39;00m\u001b[38;5;21;01m.\u001b[39;00m\u001b[38;5;21;01mexpress\u001b[39;00m \u001b[38;5;28;01mas\u001b[39;00m \u001b[38;5;21;01mpx\u001b[39;00m\n\u001b[0;32m     10\u001b[0m \u001b[38;5;66;03m# Import library untuk analisis statistik (scipy)\u001b[39;00m\n\u001b[0;32m     11\u001b[0m \u001b[38;5;28;01mfrom\u001b[39;00m \u001b[38;5;21;01mscipy\u001b[39;00m \u001b[38;5;28;01mimport\u001b[39;00m stats\n",
            "\u001b[1;31mModuleNotFoundError\u001b[0m: No module named 'plotly'"
          ]
        }
      ],
      "source": [
        "# Import library untuk manipulasi data & analisis dasar (numpy) & (pandas)\n",
        "import numpy as np\n",
        "import pandas as pd\n",
        "\n",
        "# Import library untuk visualisasi dasar & lanjutan (matplotlib),(seaborn),(plotly)\n",
        "import matplotlib.pyplot as plt\n",
        "import seaborn as sns\n",
        "import plotly.express as px\n",
        "\n",
        "# Import library untuk analisis statistik (scipy)\n",
        "from scipy import stats\n",
        "\n",
        "# Import library untuk handling waktu & tanggal (datetime)\n",
        "import datetime as dt\n",
        "\n",
        "# Import library untuk display settings (IPython)\n",
        "from IPython.display import display\n",
        "\n",
        "# Import library untuk mengabaikan warning yang tidak penting (warning)\n",
        "import warnings\n",
        "warnings.filterwarnings('ignore')\n",
        "\n",
        "# Import library untuk geospatial analysis (opsional) (folium)\n",
        "import folium\n",
        "from folium.plugins import HeatMap\n",
        "from folium.plugins import MarkerCluster\n",
        "from folium import plugins\n",
        "from branca.element import Template, MacroElement\n",
        "\n",
        "# Import library untuk clustering (opsional) (sklearn)\n",
        "from sklearn.preprocessing import StandardScaler\n",
        "from sklearn.cluster import KMeans\n"
      ]
    },
    {
      "cell_type": "markdown",
      "metadata": {
        "id": "krVhixPvZqwc"
      },
      "source": [
        "# **Penjelasan:**\n",
        "* Numpy dan Pandas : Library yang digunakan untuk data wrangling, manipulasi, handling missing values, dan lainnya.\n",
        "* Matplotlib dan Seaborn : Module atau Library yang diperuntukkan dalam proses visualisasi statis seperti tren, distribusi, perbandingan antara stasiun, dan lainnya\n",
        "* Plotyl.express : Library untuk menunjang visualisasi yang lebih kreatif seperti heatmap.\n",
        "* Scipy : Library untuk analisis statistik seperti uji hipotesis, korelasi, dan lainnya.\n",
        "* Datetime : Library dengan fungsi handling waktu dan tanggal.\n",
        "* Ipython.display : Library yang berfungsi untuk merapikan output dari dataframe."
      ]
    },
    {
      "cell_type": "markdown",
      "metadata": {
        "id": "h_Sh51Xy8DC1"
      },
      "source": [
        "## Data Wrangling"
      ]
    },
    {
      "cell_type": "markdown",
      "metadata": {
        "id": "sXU2GBYu8DC1"
      },
      "source": [
        "### Gathering Data"
      ]
    },
    {
      "cell_type": "code",
      "execution_count": null,
      "metadata": {
        "id": "zjCBk1BI8DC1"
      },
      "outputs": [],
      "source": [
        "# memanggil semua dataset yang terdapat dalam folder data\n",
        "data = {\n",
        "    'Aotizhongxin': 'data/PRSA_Data_Aotizhongxin_20130301-20170228.csv',\n",
        "    'Changping': 'data/PRSA_Data_Changping_20130301-20170228.csv',\n",
        "    'Dingling': 'data/PRSA_Data_Dingling_20130301-20170228.csv',\n",
        "    'Dongsi': 'data/PRSA_Data_Dongsi_20130301-20170228.csv',\n",
        "    'Guanyuan': 'data/PRSA_Data_Guanyuan_20130301-20170228.csv',\n",
        "    'Gucheng': 'data/PRSA_Data_Gucheng_20130301-20170228.csv',\n",
        "    'Huairou': 'data/PRSA_Data_Huairou_20130301-20170228.csv',\n",
        "    'Nongzhanguan': 'data/PRSA_Data_Nongzhanguan_20130301-20170228.csv',\n",
        "    'Shunyi': 'data/PRSA_Data_Shunyi_20130301-20170228.csv',\n",
        "    'Tiantan': 'data/PRSA_Data_Tiantan_20130301-20170228.csv',\n",
        "    'Wanliu': 'data/PRSA_Data_Wanliu_20130301-20170228.csv',\n",
        "    'Wanshouxigong': 'data/PRSA_Data_Wanshouxigong_20130301-20170228.csv'\n",
        "}\n",
        "\n",
        "# List untuk menampung semua dataframe\n",
        "dfs = []\n",
        "\n",
        "# Looping setiap file dan read csv\n",
        "for station, path in data.items():\n",
        "    df = pd.read_csv(path)\n",
        "    df['station'] = station  # Tambahkan kolom 'station' untuk identifikasi\n",
        "    dfs.append(df)\n",
        "\n",
        "# Gabungkan semua dataframe menjadi satu\n",
        "df_all = pd.concat(dfs, ignore_index=True)\n",
        "\n",
        "# Cek 5 data teratas\n",
        "df_all.head()\n"
      ]
    },
    {
      "cell_type": "markdown",
      "metadata": {
        "id": "MMi6xGaDkbCi"
      },
      "source": [
        "**Insight:**\n",
        "\n",
        "Pada proses ini, seluruh dataset dari 12 stasiun akan digabungkan menjadi satu dataset utama. Setiap file CSV mewakili data kualitas udara per stasiun, mencakup periode 1 Maret 2013 sampai 28 Februari 2017.\n",
        "Tujuan dari Gathering Data ini adalah:\n",
        "* Menggabungkan seluruh dataset menjadi dataframe utama.\n",
        "* Menambahkan kolom 'station' sebagai penanda utama dataset dari setiap stasiun."
      ]
    },
    {
      "cell_type": "code",
      "execution_count": null,
      "metadata": {
        "id": "PzmNgCK8dfo8"
      },
      "outputs": [],
      "source": [
        "# Tampilkan informasi umum dataset\n",
        "df_all.info()\n",
        "\n",
        "# Tampilkan jumlah data tiap stasiun (validasi)\n",
        "df_all['station'].value_counts()\n"
      ]
    },
    {
      "cell_type": "markdown",
      "metadata": {
        "id": "kL4YEo_hf8YA"
      },
      "source": [
        "**Insight**\n",
        "\n",
        "12 dataset dari setiap stasiun yang telah digabungkan ke dalam satu dataframe utama, kemudian diidentifikasi dengan perintah:\n",
        "* df_all.info() : Untuk menampilkan informasi mengenai hasil gabungan dataset\n",
        "* df_all['station'].value_counts() : Untuk menampilkan jumlah data dari setiap stasiun."
      ]
    },
    {
      "cell_type": "markdown",
      "metadata": {
        "id": "FHSiqaZp8DC1"
      },
      "source": [
        "### Assessing Data"
      ]
    },
    {
      "cell_type": "markdown",
      "metadata": {
        "id": "kTtoXzyom2GR"
      },
      "source": [
        "**Memeriksa Struktur Dataset**"
      ]
    },
    {
      "cell_type": "code",
      "execution_count": null,
      "metadata": {
        "id": "ax-3tEjc9Cj1"
      },
      "outputs": [],
      "source": [
        "# Cek jumlah baris dan kolom\n",
        "print(\"Jumlah baris dan kolom:\", df_all.shape)\n",
        "\n",
        "# Lihat 5 data teratas\n",
        "df_all.head()"
      ]
    },
    {
      "cell_type": "markdown",
      "metadata": {
        "id": "7dtxhAPrkhPL"
      },
      "source": [
        "**Insight:**\n",
        "\n",
        "* Dalam dataset gabungan **x** teridentifikasi sebagai baris dan **y** sebagai kolom.\n",
        "* Kolom 'station' terlihat sudah berhasil ditambahkan, dan setiap baris menggambarkan data dari 12 stasiun yang berbeda."
      ]
    },
    {
      "cell_type": "markdown",
      "metadata": {
        "id": "FwujFl_WpqjY"
      },
      "source": [
        "**Informasi Umum & Tipe Data**"
      ]
    },
    {
      "cell_type": "code",
      "execution_count": null,
      "metadata": {
        "id": "zA8QGxINp0Kp"
      },
      "outputs": [],
      "source": [
        "# Info detail tiap kolom (tipe data & non-null)\n",
        "df_all.info()"
      ]
    },
    {
      "cell_type": "markdown",
      "metadata": {
        "id": "VQK0oDJ-piqB"
      },
      "source": [
        "**Insight: **\n",
        "\n",
        "* Terlihat tipe data dari masing masing kolom\n",
        "* Kolom waktu (hour, day, month, year) masih berupa integer. Selanjutnya akan dipertimbangkan untuk konversi ke tipe datetime apabila dibutuhkan.\n",
        "* Beberapa kolom masih mengandung missing value."
      ]
    },
    {
      "cell_type": "markdown",
      "metadata": {
        "id": "4aLyPjJGqflU"
      },
      "source": [
        "**Cek Missing Values**"
      ]
    },
    {
      "cell_type": "code",
      "execution_count": null,
      "metadata": {
        "id": "-LCTFZUnqnCd"
      },
      "outputs": [],
      "source": [
        "# Total missing values per kolom\n",
        "missing_values = df_all.isnull().sum()\n",
        "missing_values"
      ]
    },
    {
      "cell_type": "markdown",
      "metadata": {
        "id": "y5kPDNxLqrdE"
      },
      "source": [
        "**Insight:**\n",
        "\n",
        "* Terlihat kolom PM2.5, PM10, SO2, NO2, CO, O3, TEMP, dan lainnya masih memiliki missing value.\n",
        "* Penting untuk menghandle missing value supaya tidak mempengaruhi hasil analisis."
      ]
    },
    {
      "cell_type": "markdown",
      "metadata": {
        "id": "9f9iqRhlrHyy"
      },
      "source": [
        "**Cek Duplikat**"
      ]
    },
    {
      "cell_type": "code",
      "execution_count": null,
      "metadata": {
        "id": "fRQmeRFWrUo1"
      },
      "outputs": [],
      "source": [
        "# Cek apakah ada baris duplikat\n",
        "duplicates = df_all.duplicated().sum()\n",
        "print(f\"Jumlah duplikat: {duplicates}\")"
      ]
    },
    {
      "cell_type": "markdown",
      "metadata": {
        "id": "9cGviLuSrXwZ"
      },
      "source": [
        "**Insight:**\n",
        "\n",
        "* Jika terdapat data duplikat maka diperlukan adanya proses penghapusan karena bisa mempengaruhi bobot dari analisis."
      ]
    },
    {
      "cell_type": "markdown",
      "metadata": {
        "id": "BeFMwiuJr_g-"
      },
      "source": [
        "**Statistik Deskriptif Kolom Numerik:**"
      ]
    },
    {
      "cell_type": "code",
      "execution_count": null,
      "metadata": {
        "id": "2Y1GscubsGBU"
      },
      "outputs": [],
      "source": [
        "# Ringkasan statistik deskriptif untuk kolom numerik\n",
        "df_all.describe()"
      ]
    },
    {
      "cell_type": "markdown",
      "metadata": {
        "id": "i8E7GFxlrxPm"
      },
      "source": [
        "**Insight:**\n",
        "\n",
        "* Cek range nilai, mean, dan standar deviasi.\n",
        "* Jika terdeteksi nilai minimum atau maksimum yang aneh, maka bisa saja itu merupakan oulier.\n",
        "* Perlu adanya perhatian pada nilai-nilai seperti DEWP, PRES, TEMP, PM2.5, dan lainnya."
      ]
    },
    {
      "cell_type": "markdown",
      "metadata": {
        "id": "EhN5R4hr8DC1"
      },
      "source": [
        "### Cleaning Data"
      ]
    },
    {
      "cell_type": "markdown",
      "metadata": {
        "id": "k5egyxkctHTo"
      },
      "source": [
        "**Mengani Missing Values**\n",
        "\n",
        "Terdapat beberapa opsi penanganan:\n",
        "\n",
        "* Interpolasi Time Series (Cocok untuk data yang bersifat waktu).\n",
        "* Fill dengan nilai sebelumnya atau Forward Fill (Bisa menjadi opsi cadangan).\n",
        "* Drop Rows (Efektif digunakan untuk data dengan jumlah missing values sedikit)."
      ]
    },
    {
      "cell_type": "code",
      "execution_count": null,
      "metadata": {
        "id": "jVnYpprE9Evz"
      },
      "outputs": [],
      "source": [
        "# Gabungkan kolom year, month, day, hour jadi satu kolom datetime\n",
        "df_clean['date'] = pd.to_datetime(df_clean[['year', 'month', 'day', 'hour']])\n",
        "\n",
        "# Set 'date' jadi index untuk interpolasi berbasis waktu\n",
        "df_clean.set_index('date', inplace=True)\n",
        "\n",
        "# Interpolasi berbasis waktu\n",
        "df_clean.interpolate(method='time', inplace=True)\n",
        "\n",
        "# Reset index supaya kolom date kembali ke dataframe\n",
        "df_clean.reset_index(inplace=True)\n",
        "\n",
        "# Penanganan terhadap kolom 'wd' karena masih terdapat missing values\n",
        "df_clean['wd'].fillna(method='ffill', inplace=True)\n",
        "\n",
        "# Cek hasil setelah interpolasi\n",
        "df_clean.info()\n",
        "\n",
        "# Cek missing values setelah interpolasi\n",
        "df_clean.isnull().sum()\n",
        "\n",
        "# Tampilkan 5 data teratas\n",
        "df_clean.head()\n"
      ]
    },
    {
      "cell_type": "markdown",
      "metadata": {
        "id": "Q_5ejIqckiSP"
      },
      "source": [
        "**Insight:**\n",
        "\n",
        "* Karena data bersifat time series, pendekatan interpolasi berbasis waktu dipilih untuk menangani missing values. Hal ini bertujuan untuk menjaga kontinuitas dari data tanpa menghasilkan bias yang signifikan.\n",
        "* Untuk mendukung proses interpolasi berbasis waktu, maka dibutuhkan adanya index bertipe DatetimeIndex. Oleh karena itu, kolom date ditambahkan dengan disematkan fungsi index untuk menjalankan perintah **interpolate(method='time')**.\n",
        "* Setelah melakukan penangan missing values menggunakan metode interpolasi waktu, ternyata kolom 'wd' masing memiliki missing values yang belum teratasi. Berdasarkan pengecekan kembali, data dalam kolom 'wd' bertipe kategorikal. Sehingga perlu penanganan khusus dengan menggunakan opsi **forward fill (ffill)**. Pendekatan **forward fill** dipilih karena menyesuaikan dengan urutan data yang didasarkan pada waktu. Sehingga nilai sebelumnya diasumsikan masih relevan dalam periode waktu terdekat."
      ]
    },
    {
      "cell_type": "markdown",
      "metadata": {
        "id": "L8BhafoEzmPS"
      },
      "source": [
        "**Memastikan Format Data**"
      ]
    },
    {
      "cell_type": "code",
      "execution_count": null,
      "metadata": {
        "id": "GzgV2CUfzw89"
      },
      "outputs": [],
      "source": [
        "# Pastikan kolom tanggal bertipe datetime\n",
        "df_clean['date'] = pd.to_datetime(df_clean['date'])\n",
        "\n",
        "# Mengecek kembali tipe data\n",
        "df_clean.info()"
      ]
    },
    {
      "cell_type": "markdown",
      "metadata": {
        "id": "IZcqjLjHz3nY"
      },
      "source": [
        "**Insight:**\n",
        "\n",
        "* Terlihat bahwa kolom **date** terformat ke dalam tipe datetime. Hal ini bisa mempermudah proses analisis berbasis waktu ke depannya."
      ]
    },
    {
      "cell_type": "markdown",
      "metadata": {
        "id": "JJonA5vz0MHE"
      },
      "source": [
        "**Mengani Anomali**"
      ]
    },
    {
      "cell_type": "code",
      "execution_count": null,
      "metadata": {
        "id": "M2om29uH0P8p"
      },
      "outputs": [],
      "source": [
        "# Kolom polutan yang ingin dicek anomali\n",
        "col_polutan = ['PM2.5', 'PM10', 'SO2', 'NO2', 'CO', 'O3']\n",
        "\n",
        "# Ganti nilai negatif jadi NaN\n",
        "for col in col_polutan:\n",
        "    df_clean.loc[df_clean[col] < 0, col] = np.nan\n",
        "\n",
        "# Pastikan date sudah menjadi index (kalau belum)\n",
        "df_clean['date'] = pd.to_datetime(df_clean['date'])\n",
        "df_clean.set_index('date', inplace=True)\n",
        "\n",
        "# Interpolasi berbasis waktu\n",
        "df_clean.interpolate(method='time', inplace=True)\n",
        "\n",
        "# (Opsional) Kembalikan date ke kolom biasa\n",
        "df_clean.reset_index(inplace=True)\n",
        "\n",
        "# Cek ulang data\n",
        "df_clean.info()\n",
        "df_clean.describe()"
      ]
    },
    {
      "cell_type": "markdown",
      "metadata": {
        "id": "8X-Th0G-1kHQ"
      },
      "source": [
        "**Validasi Akhir**"
      ]
    },
    {
      "cell_type": "code",
      "execution_count": null,
      "metadata": {
        "id": "JPkEIKPT1mi8"
      },
      "outputs": [],
      "source": [
        "# Cek missing values terakhir\n",
        "df_clean.isnull().sum()\n",
        "\n",
        "# Cek shape akhir dataset\n",
        "df_clean.shape"
      ]
    },
    {
      "cell_type": "markdown",
      "metadata": {
        "id": "MnuesqQS10HG"
      },
      "source": [
        "**Insight:**\n",
        "\n",
        "* Setelah rangkaian proses penanganan missing values selesai, selanjutnya dilakukan pengecekan ulang untuk memastikan bahwa data sepenuhnya bersih."
      ]
    },
    {
      "cell_type": "markdown",
      "metadata": {
        "id": "gp-Y6wU38DC1"
      },
      "source": [
        "## Exploratory Data Analysis (EDA)"
      ]
    },
    {
      "cell_type": "markdown",
      "metadata": {
        "id": "MW7WF2kr8DC1"
      },
      "source": [
        "### Explore ..."
      ]
    },
    {
      "cell_type": "markdown",
      "metadata": {
        "id": "eNYEQoRj4XRA"
      },
      "source": [
        "**Distribusi Polutan per Stasiun**"
      ]
    },
    {
      "cell_type": "code",
      "execution_count": null,
      "metadata": {
        "id": "e9CQCZjk8DC2"
      },
      "outputs": [],
      "source": [
        "# Mengatur style visualisasi\n",
        "sns.set(style=\"whitegrid\")\n",
        "\n",
        "# List kolom polutan\n",
        "pollutants = ['PM2.5', 'PM10', 'SO2', 'NO2', 'CO', 'O3']\n",
        "\n",
        "# Plot Boxplot untuk masing-masing polutan per stasiun\n",
        "plt.figure(figsize=(20, 12))\n",
        "\n",
        "for i, col in enumerate(pollutants, 1):\n",
        "    plt.subplot(2, 3, i)\n",
        "    sns.boxplot(data=df_clean, x='station', y=col)\n",
        "    plt.title(f'Distribusi {col} per Stasiun', fontsize=14)\n",
        "    plt.xticks(rotation=45)\n",
        "\n",
        "plt.tight_layout()\n",
        "plt.show()\n"
      ]
    },
    {
      "cell_type": "markdown",
      "metadata": {
        "id": "th_Lzl2Fkj9O"
      },
      "source": [
        "**Insight:**\n",
        "\n",
        "* Analisis berfokus pada distribusi kadar polutan (PM2.5, PM10, SO2, NO2, CO, dan O3) di setiap stasiun. Tujuan dari analisis tersebut adalah mengidentifikasi perbedaan signifikan dari setiap lokasi pemantauan.\n"
      ]
    },
    {
      "cell_type": "markdown",
      "metadata": {
        "id": "SO3m8qv55NIy"
      },
      "source": [
        "**Tren Waktu Polusi Udara (PM2.5)**"
      ]
    },
    {
      "cell_type": "code",
      "execution_count": null,
      "metadata": {
        "id": "FcNqhB7W5UUF"
      },
      "outputs": [],
      "source": [
        "# Mengambil rata-rata PM2.5 tiap bulan\n",
        "df_pm25_monthly = df_clean.groupby(['year', 'month'])['PM2.5'].mean().reset_index()\n",
        "\n",
        "# Membuat kolom date (untuk x-axis time series)\n",
        "df_pm25_monthly['date'] = pd.to_datetime(df_pm25_monthly[['year', 'month']].assign(day=1))\n",
        "\n",
        "# Plot line chart PM2.5 rata-rata per bulan\n",
        "plt.figure(figsize=(14, 6))\n",
        "sns.lineplot(data=df_pm25_monthly, x='date', y='PM2.5')\n",
        "plt.title('Tren PM2.5 Bulanan (2013 - 2017)', fontsize=16)\n",
        "plt.xlabel('Tanggal')\n",
        "plt.ylabel('Rata-rata PM2.5')\n",
        "plt.grid(True)\n",
        "plt.show()\n"
      ]
    },
    {
      "cell_type": "markdown",
      "metadata": {
        "id": "QXyLKWLF5gAL"
      },
      "source": [
        "**Insight:**\n",
        "\n",
        "* Indikator PM2.5 dipilih karena merupakan kadar polutan yang paling berbahaya bagi manusia. Analisis ini bisa menunjukkan fluktuasi tren tahunan dan musiman dari PM2.5 di udara."
      ]
    },
    {
      "cell_type": "markdown",
      "metadata": {
        "id": "4i0bHk1v53FJ"
      },
      "source": [
        "**Korelasi Antar Polutan**"
      ]
    },
    {
      "cell_type": "code",
      "execution_count": null,
      "metadata": {
        "id": "vvJwG9K758-t"
      },
      "outputs": [],
      "source": [
        "# Korelasi hanya diambil dari kolom polutan\n",
        "cor_polutan = df_clean[pollutants].corr()\n",
        "\n",
        "plt.figure(figsize=(10, 8))\n",
        "sns.heatmap(cor_polutan, annot=True, cmap='coolwarm', linewidths=0.5)\n",
        "plt.title('Heatmap Korelasi Antar Polutan')\n",
        "plt.show()\n"
      ]
    },
    {
      "cell_type": "markdown",
      "metadata": {
        "id": "iZ7SejIn6Io3"
      },
      "source": [
        "**Insight:**\n",
        "\n",
        "* Analisis Heatmap menunjukkan adanya hubungan korelasional yang saling berpengaruh antar jenis polutan (PM2.5, PM10, O3, CO, dan lainnya).\n",
        "* Korelasi tersebut diukur pada range nilai koefisien dengan indeks sebagi berikut:\n",
        "\n",
        " * **Mendekati 1** = hubungan positif kuat\n",
        " * **Mendekati -1** = hubungan negatif kuat\n",
        " * **Mendekati 0** = hubungan tidak terindikasi"
      ]
    },
    {
      "cell_type": "markdown",
      "metadata": {
        "id": "pGNoF2jr75q2"
      },
      "source": [
        "**Seasonal Analysis: Polusi vs Musim**"
      ]
    },
    {
      "cell_type": "code",
      "execution_count": null,
      "metadata": {
        "id": "-yJ5lw4G8BzF"
      },
      "outputs": [],
      "source": [
        "# Menambahkan kolom musim\n",
        "def get_season(month):\n",
        "    if month in [12, 1, 2]:\n",
        "        return 'Winter'\n",
        "    elif month in [3, 4, 5]:\n",
        "        return 'Spring'\n",
        "    elif month in [6, 7, 8]:\n",
        "        return 'Summer'\n",
        "    else:\n",
        "        return 'Fall'\n",
        "\n",
        "df_clean['season'] = df_clean['month'].apply(get_season)\n",
        "\n",
        "# Rata-rata PM2.5 per musim\n",
        "plt.figure(figsize=(8, 6))\n",
        "sns.boxplot(data=df_clean, x='season', y='PM2.5', order=['Winter', 'Spring', 'Summer', 'Fall'])\n",
        "plt.title('Distribusi PM2.5 Berdasarkan Musim')\n",
        "plt.show()\n"
      ]
    },
    {
      "cell_type": "markdown",
      "metadata": {
        "id": "L1hXjRkV8I83"
      },
      "source": [
        "**Insight:**\n",
        "\n",
        "* Analisis musiman bisa membantu dalam memahami pengaruh musim terhadap polusi.\n",
        "* Terdapat empat kategori musim seperti:\n",
        "  \n",
        "  * **Musim Dingin:** Desember - Februari\n",
        "  * **Musim Semi:** Maret - Mei\n",
        "  * **Musim Panas:** Juni - Agustus\n",
        "  * **Musim Gugur:** September - November"
      ]
    },
    {
      "cell_type": "markdown",
      "metadata": {
        "id": "t9p2S5o8Aj1q"
      },
      "source": [
        "**Analisis Musiman PM2.5**"
      ]
    },
    {
      "cell_type": "code",
      "execution_count": null,
      "metadata": {
        "colab": {
          "base_uri": "https://localhost:8080/",
          "height": 574
        },
        "id": "6pClDFhXAnic",
        "outputId": "bd5205c4-fe8f-4126-c22e-69b7b0e1b05d"
      },
      "outputs": [
        {
          "data": {
            "image/png": "[encoded data removed]",
            "text/plain": [
              "<Figure size 1000x600 with 1 Axes>"
            ]
          },
          "metadata": {},
          "output_type": "display_data"
        }
      ],
      "source": [
        "# Fungsi untuk menetapkan musim berdasarkan bulan\n",
        "def assign_season(month):\n",
        "    if month in [12, 1, 2]:\n",
        "        return 'Winter'\n",
        "    elif month in [3, 4, 5]:\n",
        "        return 'Spring'\n",
        "    elif month in [6, 7, 8]:\n",
        "        return 'Summer'\n",
        "    else:\n",
        "        return 'Autumn'\n",
        "\n",
        "# Menambahkan kolom 'season' ke dataframe\n",
        "df_clean['season'] = df_clean['month'].apply(assign_season)\n",
        "\n",
        "# Visualisasi Boxplot\n",
        "plt.figure(figsize=(10, 6))\n",
        "sns.boxplot(x='season', y='PM2.5', data=df_clean,\n",
        "            order=['Winter', 'Spring', 'Summer', 'Autumn'],\n",
        "            palette='coolwarm')\n",
        "\n",
        "plt.title('Distribusi PM2.5 per Musim di Beijing (2013-2017)', fontsize=14)\n",
        "plt.xlabel('Musim')\n",
        "plt.ylabel('Konsentrasi PM2.5 (µg/m³)')\n",
        "plt.grid(True, linestyle='--', alpha=0.7)\n",
        "plt.show()\n"
      ]
    },
    {
      "cell_type": "markdown",
      "metadata": {
        "id": "awhkUAYuA9tl"
      },
      "source": [
        "**Insight:**\n",
        "\n",
        "* Musim Dingin menunjukkan konsenstransi PM2.5 tertinggi dengan rata-rata mencapai dua kali lipat dari musim panas.\n",
        "* Faktor utama yang menyebabkan tingginya polusi di musim dingin antara lain:\n",
        "  \n",
        "  * **Intensitas pemakaian batu bara** untuk sistem pemanas industri dan rumah tangga.\n",
        "  * **Fenomena inversi suhu**, yang menyebabkan polutan terjebak pada lapisan bawah atmosfer.\n",
        "  * **Minimnya angin dan curah hujan** mengakibatkan udara yang lebih dingin terperangkap di bawah udara hangat, sehingga mengurangi dispersi partikel yang menyebabkan polutan susah naik dan akhirnya menyebar.  \n",
        "* **Musim Panas** memperlihatkan penurunan signifikan konsentrasi PM2.5, karena adanya peningkatan pada curah hujan dan pergerakan angin yang lebih kencang."
      ]
    },
    {
      "cell_type": "markdown",
      "metadata": {
        "id": "zsyZjqak8DC2"
      },
      "source": [
        "## Visualization & Explanatory Analysis"
      ]
    },
    {
      "cell_type": "markdown",
      "metadata": {
        "id": "HZxOiQ6n8DC2"
      },
      "source": [
        "### Pertanyaan 1:\n",
        "\n",
        " **Bagaimana tren polusi udara (PM2.5 dan PM10) selama periode 2013-2017 di berbagai stasiun, dan apakah terdapat perbedaan yang signifikan?**"
      ]
    },
    {
      "cell_type": "markdown",
      "metadata": {
        "id": "waJeUcU5JYja"
      },
      "source": [
        "**Visualisasi 1:** Tren PM2.5 di Setiap Stasiun Tahun 2013-2017"
      ]
    },
    {
      "cell_type": "code",
      "execution_count": null,
      "metadata": {
        "id": "wu9Kz3vPJpdn"
      },
      "outputs": [],
      "source": [
        "plt.figure(figsize=(15, 6))\n",
        "sns.lineplot(data=df_clean, x='date', y='PM2.5', hue='station', linewidth=1.2)\n",
        "plt.title('Tren PM2.5 di Berbagai Stasiun (2013-2017)', fontsize=14)\n",
        "plt.xlabel('Tanggal')\n",
        "plt.ylabel('PM2.5')\n",
        "plt.legend(loc='upper right', bbox_to_anchor=(1.15, 1))\n",
        "plt.show()\n"
      ]
    },
    {
      "cell_type": "markdown",
      "metadata": {
        "id": "vIWnPXaBJ3Cl"
      },
      "source": [
        "**Insight:**\n",
        "\n",
        "* Pola musiman terlihat jelas yaitu adanya lonjakan pada PM2.5 ketika memasuki musim dingin.\n",
        "* Stasiun dengan konsentrasi polutan PM2.5 tertinggi adalah Guanyuan dan Dongsi.\n",
        "* Mulai tahun 2015, terlihat adanya penurunan tren PM2.5 di sebagian besar stasiun. Hal ini kemungkinan terjadi karena pemerintah sudah memberlakukan kebijakan pengurangan aktifitas yang menimbulkan polutan.   "
      ]
    },
    {
      "cell_type": "markdown",
      "metadata": {
        "id": "2xI3bmHuKxgG"
      },
      "source": [
        "**Visualisasi 2:** Boxplot PM10 antar Stasiun"
      ]
    },
    {
      "cell_type": "code",
      "execution_count": null,
      "metadata": {
        "id": "QqH6oq6DJrGD"
      },
      "outputs": [],
      "source": [
        "plt.figure(figsize=(12, 6))\n",
        "sns.boxplot(data=df_clean, x='station', y='PM10')\n",
        "plt.title('Distribusi PM10 di Setiap Stasiun (2013-2017)', fontsize=14)\n",
        "plt.xlabel('Stasiun')\n",
        "plt.ylabel('PM10')\n",
        "plt.xticks(rotation=45)\n",
        "plt.show()\n"
      ]
    },
    {
      "cell_type": "markdown",
      "metadata": {
        "id": "VJ41OCkqLI8O"
      },
      "source": [
        "**Insight:**\n",
        "\n",
        "* Stasiun Tiantan dan Guanyuan memiliki median PM10 yang lebih tinggi dibanding lainnya.\n",
        "* Stasiun Huairou menunjukkan kadar polusi yang lebih rendah dan stabil daripada wilayah lain. Hal ini menunjukkan bahwa Huairou merupakan daerah suburban atau rural."
      ]
    },
    {
      "cell_type": "markdown",
      "metadata": {
        "id": "DgHI7CiU8DC2"
      },
      "source": [
        "### Pertanyaan 2:\n",
        "\n",
        "**Bagaimana faktor cuaca (kelembaban, suhu, curah hujan, tekanan udara, kecepatan angin) mempengaruhi tingkat polusi udara (PM2.5 dan PM10) di masing-masing lokasi?**"
      ]
    },
    {
      "cell_type": "markdown",
      "metadata": {
        "id": "Z9OzQVnHLlvu"
      },
      "source": [
        "**Visualisasi 3:** Heatmap Korelasi antara Cuaca dan Polusi"
      ]
    },
    {
      "cell_type": "code",
      "execution_count": null,
      "metadata": {
        "id": "Go0lCsvO8DC2"
      },
      "outputs": [],
      "source": [
        "plt.figure(figsize=(10, 8))\n",
        "corr = df_clean[['PM2.5', 'PM10', 'TEMP', 'DEWP', 'PRES', 'RAIN', 'WSPM']].corr()\n",
        "sns.heatmap(corr, annot=True, cmap='coolwarm', linewidths=0.5)\n",
        "plt.title('Korelasi antara Polusi dan Faktor Cuaca')\n",
        "plt.show()\n"
      ]
    },
    {
      "cell_type": "markdown",
      "metadata": {
        "id": "_0-36BDLklRg"
      },
      "source": [
        "**Insight:**\n",
        "\n",
        "* PM2.5 dan PM10 berkorelasi negatif dengan TEMP dan WSPM, yang berarti suhu tinggi dan angin kencang membantu mengurangi polusi.\n",
        "* PRES (Tekanan Udara) cenderung bergerak positif terhadap PM2.5, sehingga mengindikasikan bahwa polusi terperangkap pada kondisi bertekanan tinggi (fenomena inversi)"
      ]
    },
    {
      "cell_type": "markdown",
      "metadata": {
        "id": "7DWV0uwoMc2_"
      },
      "source": [
        "**Visualisasi 4:** Scatterplot Kecepatan Angin vs PM2.5"
      ]
    },
    {
      "cell_type": "code",
      "execution_count": null,
      "metadata": {
        "id": "GKMOldlAMglY"
      },
      "outputs": [],
      "source": [
        "plt.figure(figsize=(10, 6))\n",
        "sns.scatterplot(data=df_clean, x='WSPM', y='PM2.5', hue='station', alpha=0.6)\n",
        "plt.title('Hubungan Kecepatan Angin dengan PM2.5')\n",
        "plt.xlabel('Kecepatan Angin (m/s)')\n",
        "plt.ylabel('PM2.5')\n",
        "plt.legend(bbox_to_anchor=(1.05, 1), loc='upper left')\n",
        "plt.show()\n"
      ]
    },
    {
      "cell_type": "markdown",
      "metadata": {
        "id": "u3sDvm78NTKh"
      },
      "source": [
        "**Insight:**\n",
        "\n",
        "* Visualisasi dari Scatter Plot menunjukkan bahwa semakin tinggi kecepatan angin, maka kadar PM2.5 di udara akan semakin berkurang.\n",
        "* Efek ini distorsi tersebut paling signifikan terjadi di stasiun **urban** seperti Guanyuan dan Wanshouxigong."
      ]
    },
    {
      "cell_type": "markdown",
      "metadata": {
        "id": "8DenZbISPM0d"
      },
      "source": [
        "### **Explanatory Analysis (Narasi Insight)**\n",
        "\n",
        "* Polusi udara menunjukkan tren musiman yang jelas dengan konsentrasi tertinggi pada musim dingin.\n",
        "* Terdapat perbedaan signifikan antar stasiun, dimana stasiun rural menunjukkan polusi yang lebih tinggi, sedangkan stasiun urban menunjukkan polusi yang lebih rendah.\n",
        "* Faktor cuaca berpengaruh besar terhadap tingkat polusi udara.\n",
        "* Ada tren penurunan polusi udara setelah tahun 2015, yang kemungkinan besar terjadi karena pemerintah sudah memberlukan kebijakan mengurangi aktifitas yang menimbulkan polusi."
      ]
    },
    {
      "cell_type": "markdown",
      "metadata": {
        "id": "9y4VUsmcYNZ5"
      },
      "source": [
        "## Analisis Lanjutan (Opsional)"
      ]
    },
    {
      "cell_type": "markdown",
      "metadata": {
        "id": "QAIlXO8VVlej"
      },
      "source": [
        "### **Geospatial Analysis**"
      ]
    },
    {
      "cell_type": "markdown",
      "metadata": {
        "id": "aWBLsilNVv2_"
      },
      "source": [
        "1. Menambahkan Koordinat Stasiun"
      ]
    },
    {
      "cell_type": "code",
      "execution_count": null,
      "metadata": {
        "id": "AYOxXoT2V2YA"
      },
      "outputs": [],
      "source": [
        "# Koordinat stasiun\n",
        "station_coords = {\n",
        "    'Aotizhongxin': [39.9826, 116.3972],\n",
        "    'Changping': [40.2181, 116.2312],\n",
        "    'Dingling': [40.2935, 116.2329],\n",
        "    'Dongsi': [39.9289, 116.4176],\n",
        "    'Guanyuan': [39.9299, 116.3567],\n",
        "    'Gucheng': [39.9121, 116.1851],\n",
        "    'Huairou': [40.316, 116.631],\n",
        "    'Nongzhanguan': [39.933, 116.461],\n",
        "    'Shunyi': [40.125, 116.654],\n",
        "    'Tiantan': [39.8837, 116.4102],\n",
        "    'Wanliu': [39.998, 116.287],\n",
        "    'Wanshouxigong': [39.8895, 116.3525]\n",
        "}\n"
      ]
    },
    {
      "cell_type": "markdown",
      "metadata": {
        "id": "rj8Xh6Q6V9dS"
      },
      "source": [
        "2. Hitung Rata-Rata PM2.5 per Stasiun"
      ]
    },
    {
      "cell_type": "code",
      "execution_count": null,
      "metadata": {
        "id": "chr35M8fWGlc"
      },
      "outputs": [],
      "source": [
        "avg_pm25_station = df_clean.groupby('station')['PM2.5'].mean().reset_index()\n",
        "avg_pm25_station['Latitude'] = avg_pm25_station['station'].map(lambda x: station_coords[x][0])\n",
        "avg_pm25_station['Longitude'] = avg_pm25_station['station'].map(lambda x: station_coords[x][1])\n",
        "avg_pm25_station\n"
      ]
    },
    {
      "cell_type": "markdown",
      "metadata": {
        "id": "4HIEzs8fWqhP"
      },
      "source": [
        "3. Membuat Peta Interaktif"
      ]
    },
    {
      "cell_type": "code",
      "execution_count": null,
      "metadata": {
        "id": "1XwQRtIDWvDe"
      },
      "outputs": [],
      "source": [
        "# Fungsi warna revisi\n",
        "def get_color(pm25):\n",
        "    if pm25 <= 70:\n",
        "        return 'green'\n",
        "    elif pm25 <= 75:\n",
        "        return 'yellow'\n",
        "    elif pm25 <= 80:\n",
        "        return 'orange'\n",
        "    elif pm25 <= 85:\n",
        "        return 'red'\n",
        "    else:\n",
        "        return 'darkred'\n",
        "\n",
        "# Buat map\n",
        "map_pm25 = folium.Map(location=[39.9042, 116.4074], zoom_start=10)\n",
        "\n",
        "# Loop data stasiun\n",
        "for _, row in avg_pm25_station.iterrows():\n",
        "    station = row['station']\n",
        "    pm25 = row['PM2.5']\n",
        "    coord = station_coords[station]\n",
        "\n",
        "    folium.CircleMarker(\n",
        "        location=coord,\n",
        "        radius=(pm25 - 60),  # skala radius biar proporsional\n",
        "        color=get_color(pm25),\n",
        "        fill=True,\n",
        "        fill_color=get_color(pm25),\n",
        "        fill_opacity=0.7,\n",
        "        popup=f'{station}: {pm25:.2f} µg/m³'\n",
        "    ).add_to(map_pm25)\n",
        "\n",
        "# Template legend HTML\n",
        "legend_html = '''\n",
        "{% macro html(this, kwargs) %}\n",
        "<div id=\"legend\" style=\"\n",
        "    position: fixed;\n",
        "    top: 20px;\n",
        "    right: 20px;\n",
        "    width: 150px;\n",
        "    height: auto;\n",
        "    background-color: white;\n",
        "    border:1px solid grey;\n",
        "    z-index:9999;\n",
        "    font-size:12px;\n",
        "    padding: 8px;\n",
        "    cursor: move;\n",
        "    border-radius: 5px;\n",
        "    box-shadow: 2px 2px 5px rgba(0,0,0,0.3);\n",
        "\">\n",
        "<b>Legend - PM2.5 (µg/m³)</b><br><br>\n",
        "<i style=\"background:green;width:10px;height:10px;float:left;margin-right:5px;\"></i> ≤ 70<br>\n",
        "<i style=\"background:yellow;width:10px;height:10px;float:left;margin-right:5px;\"></i> 71 - 75<br>\n",
        "<i style=\"background:orange;width:10px;height:10px;float:left;margin-right:5px;\"></i> 76 - 80<br>\n",
        "<i style=\"background:red;width:10px;height:10px;float:left;margin-right:5px;\"></i> 81 - 85<br>\n",
        "<i style=\"background:darkred;width:10px;height:10px;float:left;margin-right:5px;\"></i> > 85\n",
        "</div>\n",
        "\n",
        "<script>\n",
        "    var legend = document.getElementById('legend');\n",
        "    legend.onmousedown = function(event) {\n",
        "        let shiftX = event.clientX - legend.getBoundingClientRect().left;\n",
        "        let shiftY = event.clientY - legend.getBoundingClientRect().top;\n",
        "\n",
        "        function moveAt(pageX, pageY) {\n",
        "            legend.style.left = pageX - shiftX + 'px';\n",
        "            legend.style.top = pageY - shiftY + 'px';\n",
        "        }\n",
        "\n",
        "        function onMouseMove(event) {\n",
        "            moveAt(event.pageX, event.pageY);\n",
        "        }\n",
        "\n",
        "        document.addEventListener('mousemove', onMouseMove);\n",
        "\n",
        "        legend.onmouseup = function() {\n",
        "            document.removeEventListener('mousemove', onMouseMove);\n",
        "            legend.onmouseup = null;\n",
        "        };\n",
        "    };\n",
        "\n",
        "    legend.ondragstart = function() {\n",
        "        return false;\n",
        "    };\n",
        "</script>\n",
        "{% endmacro %}\n",
        "'''\n",
        "\n",
        "# Tambahkan template legend ke map\n",
        "legend = MacroElement()\n",
        "legend._template = Template(legend_html)\n",
        "map_pm25.get_root().add_child(legend)\n",
        "\n",
        "map_pm25"
      ]
    },
    {
      "cell_type": "markdown",
      "metadata": {
        "id": "_WeHlCeX8DC2"
      },
      "source": [
        "## Conclusion"
      ]
    },
    {
      "cell_type": "markdown",
      "metadata": {
        "id": "6-xEwkQkezkp"
      },
      "source": [
        "### **Conclution pertanyaan 1:**\n",
        "\n",
        "**Bagaimana tren polusi udara (PM2.5 dan PM10) selama periode 2013-2017 di berbagai stasiun, dan apakah terdapat perbedaan yang signifikan?**\n",
        "\n",
        "Jawaban:\n",
        "\n",
        "1. **Tren Umum Polusi Udara**\n",
        "  * Selama periode 2013-2017, rata-rata konsentrasi PM2.5 dan PM10 di seluruh stasiun Kota Beijing, mengalami indeks penurunan secara bertahap. Hal ini kemungkinan besar terjadi karena pemerintah sudah mulai menerapkan kebijakan untuk mengendalikan pertubumuhan polusi di udara Kota Beijing.\n",
        "\n",
        "2. **Perbedaan antar Stasiun**\n",
        "\n",
        "  Terdapat beberapa signifikansi perbedaan PM2.5 dan PM10 yang terdapat pada 12 stasiun pemantauan:\n",
        "\n",
        "  * Stasiun perkotaan padat seperti Guanyuan dan Dongsi menunjukkan tingkat polusi yang lebih tinggi jika dibandingkan dengan stasiun pinggir kota seperti Changping dan Huairou.\n",
        "  * Stasiun Wanliu dan Nongzhanguan secara konsisten mencatatkan polusi menengah hingga tinggi.\n",
        "\n",
        "3. **Pola Musiman**\n",
        "\n",
        "  Tingkat polusi meningkat drastis selama musim dingin (winter), terutama antara bulan Desember hingga Februari. Ini bisa disebabkan oleh:\n",
        "\n",
        "  * Penggunaan batu bara sebagai pemanas yang berlebihan.\n",
        "  * Fenomena inversi suhu yang mengendapkan polusi pada lapisan udara bawah.\n",
        "\n",
        "4. **Kondisi Terburuk**\n",
        "  Konsentrasi tertinggi PM2.5 terjadi di beberapa stasiun terutama ketika memasuki musim dingin (winter) dengan mencapai lebih dari 200 µg/m³, jauh dari ambang batas normal yang ditentukan oleh WHO (25 µg/m³)."
      ]
    },
    {
      "cell_type": "markdown",
      "metadata": {
        "id": "ZTcyR48Y8DC2"
      },
      "source": [
        "### **Conclution pertanyaan 2:**\n",
        "\n",
        "**Bagaimana faktor cuaca (seperti kelembaban, suhu, curah hujan, tekanan udara, kecepatan angin) mempengaruhi tingkat polusi udara (PM2.5 dan PM10) di masing-masing lokasi?**\n",
        "\n",
        "Jawaban:\n",
        "\n",
        "**1. Korelasi Faktor Cuaca dengan PM2.5 dan PM10**\n",
        "\n",
        "* Kecepatan angin (WSPM) memiliki korelasi negatif terhadap PM2.5 dan PM10. Artinya, semakin tinggi kecepatan angin, maka akan semakin rendah konsentrasi polutan.\n",
        "* Suhu (TEMP) memiliki korelasi positif terhadap PM2.5, terkhusus pada musim dingin karena suhu dingin seringkali disertai juga dengan penggunaan batu bara sebagai sumber pemanas ruangan.\n",
        "* Tekanan Udara (PRES) menunjukkan korelasi positif terhadap peningkatan polusi, karena dilatarbelakangin oleh fenomena inversi suhu.\n",
        "* Curah hujan (RAIN) dan kelembaban (DEWP) berkorelasi negatif karena mengurangi konsentrasi polusi melalui mekanisme pencucian udara (wet deposition).\n",
        "\n",
        "**2. Perbedaan Efek Antar Stasiun**\n",
        "\n",
        "* Di area pinggiran seperti Shunyi dan Huairou, efek angin yang kencang secara dominan mengurangi polusi jika dibandingkan dengan stasiun pusat kota seperti Guanyan.\n",
        "* Stasiun Tiantan dan Wanshouxigong memperlihatkan efek kelembaban yang dihasilkan selama musim hujan, secara signifikan menurunkan polusi di udara."
      ]
    }
  ],
  "metadata": {
    "colab": {
      "provenance": []
    },
    "kernelspec": {
      "display_name": "Python 3",
      "language": "python",
      "name": "python3"
    },
    "language_info": {
      "codemirror_mode": {
        "name": "ipython",
        "version": 3
      },
      "file_extension": ".py",
      "mimetype": "text/x-python",
      "name": "python",
      "nbconvert_exporter": "python",
      "pygments_lexer": "ipython3",
      "version": "3.12.6"
    },
    "orig_nbformat": 4,
    "vscode": {
      "interpreter": {
        "hash": "972b3bf27e332e87b5379f2791f6ef9dfc79c71018c370b0d7423235e20fe4d7"
      }
    }
  },
  "nbformat": 4,
  "nbformat_minor": 0
}
